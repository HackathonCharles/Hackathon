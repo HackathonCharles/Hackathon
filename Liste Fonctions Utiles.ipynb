{
 "cells": [
  {
   "cell_type": "code",
   "execution_count": null,
   "metadata": {},
   "outputs": [],
   "source": [
    "# coding: utf-8\n",
    "import requests,re\n",
    "from bs4 import BeautifulSoup\n",
    "import pandas as pd"
   ]
  },
  {
   "cell_type": "code",
   "execution_count": null,
   "metadata": {},
   "outputs": [],
   "source": [
    "def importSoup(url):\n",
    "    request_headers = {\n",
    "       \"Accept-Language\": \"en-US,en;q=0.5\",\n",
    "       \"User-Agent\": \"Mozilla/5.0 (Windows NT 10.0; WOW64; rv:40.0) Gecko/20100101 Firefox/40.0\",\n",
    "       \"Accept\": \"text/html,application/xhtml+xml,application/xml;q=0.9,*/*;q=0.8\",\n",
    "       \"Referer\": \"http://thewebsite.com\",\n",
    "       \"Connection\": \"keep-alive\"\n",
    "    }\n",
    "    res = requests.get(url, headers = request_headers)\n",
    "    if res.status_code == 200:\n",
    "        html_doc =  res.text\n",
    "        soup = BeautifulSoup(html_doc,\"html.parser\")\n",
    "        return soup\n",
    "\n",
    "url = r\"https://www.leboncoin.fr/recherche/?category=2&text=renault%20zoe&regions=12\"\n",
    "soup = importSoup(url)"
   ]
  },
  {
   "cell_type": "code",
   "execution_count": null,
   "metadata": {},
   "outputs": [],
   "source": [
    "specific_class = \"clearfix trackable\"\n",
    "all_links = map(lambda x : x.attrs['href'] , soup.find_all(\"a\", class_= specific_class))"
   ]
  },
  {
   "cell_type": "code",
   "execution_count": null,
   "metadata": {},
   "outputs": [],
   "source": [
    "toto = soup.find_all(\"p\",attrs={'class':'darty_prix_barre_remise darty_small separator_top'})"
   ]
  },
  {
   "cell_type": "code",
   "execution_count": null,
   "metadata": {},
   "outputs": [],
   "source": [
    "regex = re.compile(r'([A-Z]*) ([A-Z]*) ([0-9]* mg|[0-9]* g), (.*)')\n",
    "listLignes = [regex.findall(m['denomination']) for m in page]"
   ]
  },
  {
   "cell_type": "code",
   "execution_count": null,
   "metadata": {},
   "outputs": [],
   "source": [
    "regex = r',(.*)'\n",
    "re.findall(regex,string)"
   ]
  },
  {
   "cell_type": "code",
   "execution_count": null,
   "metadata": {},
   "outputs": [],
   "source": [
    "def ExtractJson2():\n",
    "    token = \"\"\n",
    "    headers = {'Authorization': 'token {}'.format(token)}\n",
    "    url = f\"https://open-medicaments.fr/api/v1/medicaments?limit=100&query=paracetamol\"\n",
    "    req = requests.get(url)\n",
    "    page = req.json()\n",
    "    return page"
   ]
  }
 ],
 "metadata": {
  "kernelspec": {
   "display_name": "Python 3",
   "language": "python",
   "name": "python3"
  },
  "language_info": {
   "codemirror_mode": {
    "name": "ipython",
    "version": 3
   },
   "file_extension": ".py",
   "mimetype": "text/x-python",
   "name": "python",
   "nbconvert_exporter": "python",
   "pygments_lexer": "ipython3",
   "version": "3.7.0"
  }
 },
 "nbformat": 4,
 "nbformat_minor": 2
}
