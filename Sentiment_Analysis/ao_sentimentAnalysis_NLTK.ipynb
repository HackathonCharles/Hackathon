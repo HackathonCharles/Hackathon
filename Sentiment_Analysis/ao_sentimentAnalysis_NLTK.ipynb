{
 "cells": [
  {
   "cell_type": "code",
   "execution_count": 1,
   "metadata": {},
   "outputs": [],
   "source": [
    "dataset = [\"Food is good and not too expensive. Serving is just right for adult. Ambient is nice too.\",\n",
    "           \"Used to be good. Chicken soup was below average, bbq used to be good.\",\n",
    "           \"Food was good, standouts were the spicy beef soup and seafood pancake! \",\n",
    "           \"Good office lunch or after work place to go to with a big group as they have a lot of private areas with large tables\",\n",
    "           \"As a Korean person, it was very disappointing food quality and very pricey for what you get. I won't go back there again. \",\n",
    "           \"Not great quality food for the price. Average food at premium prices really.\",\n",
    "           \"Fast service. Prices are reasonable and food is decent.\",\n",
    "           \"Extremely long waiting time. Food is decent but definitely not worth the wait.\",\n",
    "           \"Clean premises, tasty food. My family favourites are the clear Tom yum soup, stuffed chicken wings, chargrilled squid.\",\n",
    "           \"really good and authentic Thai food! in particular, we loved their tom yup clear soup with sliced fish. it's so well balanced that we can have it just on its own. \"\n",
    "           ]"
   ]
  },
  {
   "cell_type": "code",
   "execution_count": 17,
   "metadata": {},
   "outputs": [
    {
     "name": "stdout",
     "output_type": "stream",
     "text": [
      "[nltk_data] Downloading package vader_lexicon to\n",
      "[nltk_data]     /home/alba/miniconda3/envs/MY_ENV_P37/lib/nltk_data...\n",
      "[nltk_data]   Package vader_lexicon is already up-to-date!\n"
     ]
    },
    {
     "data": {
      "text/plain": [
       "True"
      ]
     },
     "execution_count": 17,
     "metadata": {},
     "output_type": "execute_result"
    }
   ],
   "source": [
    "import nltk\n",
    "import pandas as pd\n",
    "import numpy as np\n",
    "nltk.download('vader_lexicon')"
   ]
  },
  {
   "cell_type": "code",
   "execution_count": 4,
   "metadata": {},
   "outputs": [],
   "source": [
    "def nltk_sentiment(sentence):\n",
    "    from nltk.sentiment.vader import SentimentIntensityAnalyzer\n",
    "    \n",
    "    nltk_sentiment = SentimentIntensityAnalyzer()\n",
    "    score = nltk_sentiment.polarity_scores(sentence)\n",
    "    return score"
   ]
  },
  {
   "cell_type": "code",
   "execution_count": 7,
   "metadata": {},
   "outputs": [],
   "source": [
    "nltk_results = [nltk_sentiment(row) for row in dataset]\n",
    "results_df = pd.DataFrame(nltk_results)\n",
    "text_df = pd.DataFrame(dataset, columns = ['text'])\n",
    "nltk_df = text_df.join(results_df)"
   ]
  },
  {
   "cell_type": "code",
   "execution_count": 31,
   "metadata": {},
   "outputs": [
    {
     "data": {
      "text/plain": [
       "<Figure size 576x432 with 0 Axes>"
      ]
     },
     "metadata": {},
     "output_type": "display_data"
    },
    {
     "data": {
      "image/png": "[encoded data removed]",
      "text/plain": [
       "<Figure size 1080x288 with 1 Axes>"
      ]
     },
     "metadata": {
      "needs_background": "light"
     },
     "output_type": "display_data"
    }
   ],
   "source": [
    "# Tracé de l'histogramme\n",
    "import matplotlib.pyplot as plt\n",
    "\n",
    "%matplotlib inline\n",
    "fig = plt.figure(figsize=(8, 6))\n",
    "results_df[['neg', 'neu', 'pos']].plot.bar(figsize=(15,4))\n",
    "plt.xlabel(\"Ligne\", fontsize=14)\n",
    "plt.ylabel(\"Fréquence\", fontsize=14)\n",
    "plt.title(\"Fréquence des sentiments par ligne\",  fontsize=14)\n",
    "plt.show()\n"
   ]
  }
 ],
 "metadata": {
  "kernelspec": {
   "display_name": "Python 3",
   "language": "python",
   "name": "python3"
  },
  "language_info": {
   "codemirror_mode": {
    "name": "ipython",
    "version": 3
   },
   "file_extension": ".py",
   "mimetype": "text/x-python",
   "name": "python",
   "nbconvert_exporter": "python",
   "pygments_lexer": "ipython3",
   "version": "3.6.6"
  }
 },
 "nbformat": 4,
 "nbformat_minor": 2
}
