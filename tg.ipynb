{
 "cells": [
  {
   "cell_type": "code",
   "execution_count": 275,
   "metadata": {},
   "outputs": [],
   "source": [
    "import pandas as pd\n",
    "import requests\n",
    "import numpy as np\n",
    "from multiprocessing import Pool\n",
    "  "
   ]
  },
  {
   "cell_type": "markdown",
   "metadata": {},
   "source": [
    "\n"
   ]
  },
  {
   "cell_type": "code",
   "execution_count": 259,
   "metadata": {},
   "outputs": [],
   "source": [
    "url1 = 'http://ws.audioscrobbler.com/2.0/?method=chart.gettoptracks&page='\n",
    "url2 ='&api_key=26773717262125fd849faafc400a0047&format=json'\n",
    "\n",
    "L=[]\n",
    "for i in range(1,50): \n",
    "    doc= requests.get(url1+str(i)+url2).json()\n",
    "    title = [elmt['name'] for elmt in doc['tracks']['track']]\n",
    "    lis = [elmt['listeners'] for elmt in doc['tracks']['track']]\n",
    "    name = [elmt['artist']['name'] for elmt in doc['tracks']['track']]\n",
    "    L.append(pd.DataFrame({'Name':name,'titre': title,'Listeners':lis}))\n"
   ]
  },
  {
   "cell_type": "code",
   "execution_count": 260,
   "metadata": {},
   "outputs": [],
   "source": [
    "pd.concat(L).to_csv('bla.csv')"
   ]
  },
  {
   "cell_type": "code",
   "execution_count": 288,
   "metadata": {},
   "outputs": [],
   "source": [
    "bla = pd.read_csv('bla_modif.csv')\n",
    "titres = pd.read_csv('Titre-artiste-annee_2010-2017.csv')"
   ]
  },
  {
   "cell_type": "code",
   "execution_count": 289,
   "metadata": {},
   "outputs": [],
   "source": [
    "res = bla.merge(titres, on=('Artiste','Titre'))"
   ]
  },
  {
   "cell_type": "code",
   "execution_count": 292,
   "metadata": {},
   "outputs": [
    {
     "data": {
      "text/plain": [
       "Index(['Artiste', 'Titre', 'Listeners', 'Annee'], dtype='object')"
      ]
     },
     "execution_count": 292,
     "metadata": {},
     "output_type": "execute_result"
    }
   ],
   "source": [
    "res.columns"
   ]
  },
  {
   "cell_type": "code",
   "execution_count": 340,
   "metadata": {},
   "outputs": [
    {
     "data": {
      "text/plain": [
       "<matplotlib.axes._subplots.AxesSubplot at 0x7fce45ae9550>"
      ]
     },
     "execution_count": 340,
     "metadata": {},
     "output_type": "execute_result"
    },
    {
     "data": {
      "image/png": "[encoded data removed]",
      "text/plain": [
       "<Figure size 432x288 with 1 Axes>"
      ]
     },
     "metadata": {},
     "output_type": "display_data"
    }
   ],
   "source": [
    "import seaborn as sns\n",
    "import matplotlib.pyplot as plt\n",
    "res[\"Annee\"]=res[\"Annee\"].astype('int')\n",
    "res['Listeners']=res['Listeners'].astype('int')\n",
    "tips = res[['Annee','Listeners']].groupby('Annee').sum()\n",
    "sns.lineplot(data=tips, palette=\"tab10\", linewidth=2.5)\n"
   ]
  },
  {
   "cell_type": "code",
   "execution_count": 335,
   "metadata": {},
   "outputs": [
    {
     "name": "stdout",
     "output_type": "stream",
     "text": [
      "       Listeners\n",
      "Annee           \n",
      "2010    15821363\n",
      "2011    13323954\n",
      "2012    13977491\n",
      "2013    21866443\n",
      "2014    21441433\n",
      "2015    18057634\n",
      "2016    12289290\n",
      "2017    12655790\n"
     ]
    }
   ],
   "source": [
    "print(tips)"
   ]
  },
  {
   "cell_type": "code",
   "execution_count": 324,
   "metadata": {},
   "outputs": [
    {
     "name": "stdout",
     "output_type": "stream",
     "text": [
      "       Listeners\n",
      "Annee           \n",
      "2010    15821363\n",
      "2011    13323954\n",
      "2012    13977491\n",
      "2013    21866443\n",
      "2014    21441433\n",
      "2015    18057634\n",
      "2016    12289290\n",
      "2017    12655790\n"
     ]
    },
    {
     "data": {
      "text/plain": [
       "([<matplotlib.axis.XTick at 0x7fce455e3710>,\n",
       "  <matplotlib.axis.XTick at 0x7fce45657f60>,\n",
       "  <matplotlib.axis.XTick at 0x7fce45657c88>,\n",
       "  <matplotlib.axis.XTick at 0x7fce4552ce80>,\n",
       "  <matplotlib.axis.XTick at 0x7fce45538390>,\n",
       "  <matplotlib.axis.XTick at 0x7fce45538860>,\n",
       "  <matplotlib.axis.XTick at 0x7fce45538d30>,\n",
       "  <matplotlib.axis.XTick at 0x7fce4553f240>],\n",
       " <a list of 8 Text xticklabel objects>)"
      ]
     },
     "execution_count": 324,
     "metadata": {},
     "output_type": "execute_result"
    },
    {
     "data": {
      "image/png": "[encoded data removed]",
      "text/plain": [
       "<Figure size 432x288 with 1 Axes>"
      ]
     },
     "metadata": {},
     "output_type": "display_data"
    }
   ],
   "source": [
    "import seaborn as sns\n",
    "import matplotlib.pyplot as plt\n",
    "res[\"Annee\"]=res[\"Annee\"].astype('int')\n",
    "res['Listeners']=res['Listeners'].astype('int')\n",
    "tips = res[['Annee','Listeners']].groupby('Annee').sum()\n",
    "print(tips)\n",
    "\n",
    "plt.hist(tips)\n",
    "\n",
    "plt.figure(1, figsize=(20, 5))\n",
    "\n",
    "y_pos = np.arange(len(tips))\n",
    "plt.bar(y_pos, tips['Listeners'])\n",
    "Genres = range(2010,2018)\n",
    "plt.xticks(y_pos, Genres)"
   ]
  },
  {
   "cell_type": "code",
   "execution_count": 319,
   "metadata": {},
   "outputs": [
    {
     "data": {
      "text/html": [
       "<div>\n",
       "<style scoped>\n",
       "    .dataframe tbody tr th:only-of-type {\n",
       "        vertical-align: middle;\n",
       "    }\n",
       "\n",
       "    .dataframe tbody tr th {\n",
       "        vertical-align: top;\n",
       "    }\n",
       "\n",
       "    .dataframe thead th {\n",
       "        text-align: right;\n",
       "    }\n",
       "</style>\n",
       "<table border=\"1\" class=\"dataframe\">\n",
       "  <thead>\n",
       "    <tr style=\"text-align: right;\">\n",
       "      <th></th>\n",
       "      <th>Listeners</th>\n",
       "    </tr>\n",
       "    <tr>\n",
       "      <th>Annee</th>\n",
       "      <th></th>\n",
       "    </tr>\n",
       "  </thead>\n",
       "  <tbody>\n",
       "    <tr>\n",
       "      <th>2010</th>\n",
       "      <td>15821363</td>\n",
       "    </tr>\n",
       "    <tr>\n",
       "      <th>2011</th>\n",
       "      <td>13323954</td>\n",
       "    </tr>\n",
       "    <tr>\n",
       "      <th>2012</th>\n",
       "      <td>13977491</td>\n",
       "    </tr>\n",
       "    <tr>\n",
       "      <th>2013</th>\n",
       "      <td>21866443</td>\n",
       "    </tr>\n",
       "    <tr>\n",
       "      <th>2014</th>\n",
       "      <td>21441433</td>\n",
       "    </tr>\n",
       "    <tr>\n",
       "      <th>2015</th>\n",
       "      <td>18057634</td>\n",
       "    </tr>\n",
       "    <tr>\n",
       "      <th>2016</th>\n",
       "      <td>12289290</td>\n",
       "    </tr>\n",
       "    <tr>\n",
       "      <th>2017</th>\n",
       "      <td>12655790</td>\n",
       "    </tr>\n",
       "  </tbody>\n",
       "</table>\n",
       "</div>"
      ],
      "text/plain": [
       "       Listeners\n",
       "Annee           \n",
       "2010    15821363\n",
       "2011    13323954\n",
       "2012    13977491\n",
       "2013    21866443\n",
       "2014    21441433\n",
       "2015    18057634\n",
       "2016    12289290\n",
       "2017    12655790"
      ]
     },
     "execution_count": 319,
     "metadata": {},
     "output_type": "execute_result"
    }
   ],
   "source": [
    "tips"
   ]
  },
  {
   "cell_type": "code",
   "execution_count": null,
   "metadata": {},
   "outputs": [],
   "source": []
  }
 ],
 "metadata": {
  "kernelspec": {
   "display_name": "Python 3",
   "language": "python",
   "name": "python3"
  },
  "language_info": {
   "codemirror_mode": {
    "name": "ipython",
    "version": 3
   },
   "file_extension": ".py",
   "mimetype": "text/x-python",
   "name": "python",
   "nbconvert_exporter": "python",
   "pygments_lexer": "ipython3",
   "version": "3.6.6"
  }
 },
 "nbformat": 4,
 "nbformat_minor": 2
}
