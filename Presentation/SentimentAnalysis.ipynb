{
 "cells": [
  {
   "cell_type": "code",
   "execution_count": 143,
   "metadata": {},
   "outputs": [],
   "source": [
    "import pandas as pd\n",
    "import praw\n",
    "import nltk\n",
    "import numpy as np\n",
    "from praw.models import MoreComments"
   ]
  },
  {
   "cell_type": "code",
   "execution_count": 154,
   "metadata": {},
   "outputs": [],
   "source": [
    "def get_comments_on_subject(subject):\n",
    "    topics_dict = { \"name\":[], \"score\":[] , \"comms_num\": [], \"comments\":[]}\n",
    "    subreddit = reddit.subreddit('Music')\n",
    "    posts = subreddit.search(subject , sort='top', limit=10)\n",
    "\n",
    "    for submission in posts:\n",
    "        topics_dict[\"name\"].append(submission.title)\n",
    "        topics_dict[\"score\"].append(submission.score)\n",
    "        topics_dict[\"comms_num\"].append(submission.num_comments)\n",
    "        text = \"\"\n",
    "        if (submission.num_comments > 1):\n",
    "            for comments in submission.comments[:submission.num_comments//1000]:\n",
    "                if isinstance(comments, MoreComments):\n",
    "                    continue\n",
    "                reply = comments.body\n",
    "                text = text + ',' + reply\n",
    "            topics_dict[\"comments\"].append(text)\n",
    "        else:\n",
    "            topics_dict[\"comments\"].append(None)\n",
    "    topics_data = pd.DataFrame(topics_dict)\n",
    "    topics_data = topics_data.dropna()\n",
    "    #filter = topics_data[\"comments\"] != \"\"\n",
    "    #topics_data = topics_data[filter]\n",
    "    return topics_data"
   ]
  },
  {
   "cell_type": "code",
   "execution_count": 146,
   "metadata": {},
   "outputs": [],
   "source": [
    "def nltk_sentiment(sentence):\n",
    "    from nltk.sentiment.vader import SentimentIntensityAnalyzer\n",
    "    \n",
    "    nltk_sentiment = SentimentIntensityAnalyzer()\n",
    "    score = nltk_sentiment.polarity_scores(sentence)\n",
    "    return score"
   ]
  },
  {
   "cell_type": "code",
   "execution_count": 147,
   "metadata": {},
   "outputs": [],
   "source": [
    "def sentiment_analysis(comments):\n",
    "    nltk_results = [nltk_sentiment(row) for row in comments]\n",
    "    results_df = pd.DataFrame(nltk_results)\n",
    "    text_df = pd.DataFrame(comments, columns = ['text'])\n",
    "    nltk_df = text_df.join(results_df)\n",
    "    return nltk_df"
   ]
  },
  {
   "cell_type": "code",
   "execution_count": null,
   "metadata": {},
   "outputs": [],
   "source": [
    "## Statistics "
   ]
  },
  {
   "cell_type": "code",
   "execution_count": 148,
   "metadata": {},
   "outputs": [],
   "source": [
    "def analyze_sentiments(subject):\n",
    "    Data = get_comments_on_subject(subject)\n",
    "    comments = np.array(Data['comments'])\n",
    "    Sentiments = sentiment_analysis(comments)\n",
    "    #neu = Sentiments['neu'].mean()\n",
    "    if not Sentiments.empty:\n",
    "        pos = Sentiments['pos'].mean()\n",
    "    else:\n",
    "        pos = 0\n",
    "    #neg = Sentiments['neg'].mean()\n",
    "    return pos"
   ]
  },
  {
   "cell_type": "code",
   "execution_count": 149,
   "metadata": {},
   "outputs": [
    {
     "data": {
      "text/html": [
       "<div>\n",
       "<style scoped>\n",
       "    .dataframe tbody tr th:only-of-type {\n",
       "        vertical-align: middle;\n",
       "    }\n",
       "\n",
       "    .dataframe tbody tr th {\n",
       "        vertical-align: top;\n",
       "    }\n",
       "\n",
       "    .dataframe thead th {\n",
       "        text-align: right;\n",
       "    }\n",
       "</style>\n",
       "<table border=\"1\" class=\"dataframe\">\n",
       "  <thead>\n",
       "    <tr style=\"text-align: right;\">\n",
       "      <th></th>\n",
       "      <th>Unnamed: 0</th>\n",
       "      <th>Titre</th>\n",
       "      <th>Artiste</th>\n",
       "      <th>Peak</th>\n",
       "      <th>Peak date</th>\n",
       "      <th>Weeks intop ten</th>\n",
       "    </tr>\n",
       "  </thead>\n",
       "  <tbody>\n",
       "    <tr>\n",
       "      <th>0</th>\n",
       "      <td>5</td>\n",
       "      <td>finesse</td>\n",
       "      <td>bruno-mars-and-cardi-b</td>\n",
       "      <td>3.0</td>\n",
       "      <td>January 20</td>\n",
       "      <td>14</td>\n",
       "    </tr>\n",
       "    <tr>\n",
       "      <th>1</th>\n",
       "      <td>6</td>\n",
       "      <td>filthy</td>\n",
       "      <td>justin-timberlake</td>\n",
       "      <td>9.0</td>\n",
       "      <td>January 20</td>\n",
       "      <td>1</td>\n",
       "    </tr>\n",
       "    <tr>\n",
       "      <th>2</th>\n",
       "      <td>7</td>\n",
       "      <td>new-rules</td>\n",
       "      <td>dua-lipa</td>\n",
       "      <td>6.0</td>\n",
       "      <td>February 17</td>\n",
       "      <td>5</td>\n",
       "    </tr>\n",
       "    <tr>\n",
       "      <th>3</th>\n",
       "      <td>8</td>\n",
       "      <td>gods-plan</td>\n",
       "      <td>drake</td>\n",
       "      <td>1.0</td>\n",
       "      <td>February 3</td>\n",
       "      <td>26</td>\n",
       "    </tr>\n",
       "    <tr>\n",
       "      <th>4</th>\n",
       "      <td>9</td>\n",
       "      <td>diplomatic-immunity</td>\n",
       "      <td>drake</td>\n",
       "      <td>7.0</td>\n",
       "      <td>February 3</td>\n",
       "      <td>1</td>\n",
       "    </tr>\n",
       "  </tbody>\n",
       "</table>\n",
       "</div>"
      ],
      "text/plain": [
       "   Unnamed: 0                Titre                 Artiste  Peak    Peak date  \\\n",
       "0           5              finesse  bruno-mars-and-cardi-b   3.0   January 20   \n",
       "1           6               filthy       justin-timberlake   9.0   January 20   \n",
       "2           7            new-rules                dua-lipa   6.0  February 17   \n",
       "3           8            gods-plan                   drake   1.0   February 3   \n",
       "4           9  diplomatic-immunity                   drake   7.0   February 3   \n",
       "\n",
       "   Weeks intop ten  \n",
       "0               14  \n",
       "1                1  \n",
       "2                5  \n",
       "3               26  \n",
       "4                1  "
      ]
     },
     "execution_count": 149,
     "metadata": {},
     "output_type": "execute_result"
    }
   ],
   "source": [
    "df = pd.read_csv(\"ao_titres_2018.csv\", sep=',')\n",
    "df.head()"
   ]
  },
  {
   "cell_type": "code",
   "execution_count": 150,
   "metadata": {},
   "outputs": [],
   "source": [
    "df['Sentiment Titre'] = df[\"Titre\"].apply(analyze_sentiments)\n"
   ]
  },
  {
   "cell_type": "code",
   "execution_count": 155,
   "metadata": {},
   "outputs": [],
   "source": [
    "df['Sentiment Artiste'] = df[\"Artiste\"].apply(analyze_sentiments)"
   ]
  },
  {
   "cell_type": "code",
   "execution_count": 183,
   "metadata": {},
   "outputs": [
    {
     "data": {
      "text/html": [
       "<div>\n",
       "<style scoped>\n",
       "    .dataframe tbody tr th:only-of-type {\n",
       "        vertical-align: middle;\n",
       "    }\n",
       "\n",
       "    .dataframe tbody tr th {\n",
       "        vertical-align: top;\n",
       "    }\n",
       "\n",
       "    .dataframe thead th {\n",
       "        text-align: right;\n",
       "    }\n",
       "</style>\n",
       "<table border=\"1\" class=\"dataframe\">\n",
       "  <thead>\n",
       "    <tr style=\"text-align: right;\">\n",
       "      <th></th>\n",
       "      <th>Unnamed: 0</th>\n",
       "      <th>Titre</th>\n",
       "      <th>Artiste</th>\n",
       "      <th>Peak</th>\n",
       "      <th>Peak date</th>\n",
       "      <th>Weeks intop ten</th>\n",
       "      <th>Sentiment Titre</th>\n",
       "      <th>Sentiment Artiste</th>\n",
       "    </tr>\n",
       "  </thead>\n",
       "  <tbody>\n",
       "    <tr>\n",
       "      <th>9</th>\n",
       "      <td>18</td>\n",
       "      <td>sad</td>\n",
       "      <td>xxxtentacion</td>\n",
       "      <td>1.0</td>\n",
       "      <td>June 30</td>\n",
       "      <td>6</td>\n",
       "      <td>0.120143</td>\n",
       "      <td>0.032833</td>\n",
       "    </tr>\n",
       "    <tr>\n",
       "      <th>10</th>\n",
       "      <td>20</td>\n",
       "      <td>call-out-my-name</td>\n",
       "      <td>the-weeknd</td>\n",
       "      <td>4.0</td>\n",
       "      <td>April 14</td>\n",
       "      <td>1</td>\n",
       "      <td>0.051250</td>\n",
       "      <td>0.035500</td>\n",
       "    </tr>\n",
       "    <tr>\n",
       "      <th>11</th>\n",
       "      <td>22</td>\n",
       "      <td>nice-for-what</td>\n",
       "      <td>drake</td>\n",
       "      <td>1.0</td>\n",
       "      <td>April 21</td>\n",
       "      <td>17</td>\n",
       "      <td>0.213000</td>\n",
       "      <td>0.055000</td>\n",
       "    </tr>\n",
       "    <tr>\n",
       "      <th>19</th>\n",
       "      <td>30</td>\n",
       "      <td>better-now</td>\n",
       "      <td>post-malone</td>\n",
       "      <td>3.0</td>\n",
       "      <td>October 6</td>\n",
       "      <td>18</td>\n",
       "      <td>0.155429</td>\n",
       "      <td>0.006600</td>\n",
       "    </tr>\n",
       "    <tr>\n",
       "      <th>20</th>\n",
       "      <td>31</td>\n",
       "      <td>this-is-america</td>\n",
       "      <td>childish-gambino</td>\n",
       "      <td>1.0</td>\n",
       "      <td>May 19</td>\n",
       "      <td>5</td>\n",
       "      <td>0.060571</td>\n",
       "      <td>0.067100</td>\n",
       "    </tr>\n",
       "  </tbody>\n",
       "</table>\n",
       "</div>"
      ],
      "text/plain": [
       "    Unnamed: 0             Titre           Artiste  Peak  Peak date  \\\n",
       "9           18               sad      xxxtentacion   1.0    June 30   \n",
       "10          20  call-out-my-name        the-weeknd   4.0   April 14   \n",
       "11          22     nice-for-what             drake   1.0   April 21   \n",
       "19          30        better-now       post-malone   3.0  October 6   \n",
       "20          31   this-is-america  childish-gambino   1.0     May 19   \n",
       "\n",
       "    Weeks intop ten  Sentiment Titre  Sentiment Artiste  \n",
       "9                 6         0.120143           0.032833  \n",
       "10                1         0.051250           0.035500  \n",
       "11               17         0.213000           0.055000  \n",
       "19               18         0.155429           0.006600  \n",
       "20                5         0.060571           0.067100  "
      ]
     },
     "execution_count": 183,
     "metadata": {},
     "output_type": "execute_result"
    }
   ],
   "source": [
    "df_new = df[df['Sentiment Titre']>0]\n",
    "df_new = df_new[df_new['Sentiment Artiste']>0]\n",
    "df_new.head()"
   ]
  },
  {
   "cell_type": "code",
   "execution_count": 175,
   "metadata": {},
   "outputs": [
    {
     "data": {
      "image/png": "[encoded data removed]",
      "text/plain": [
       "<Figure size 1440x360 with 1 Axes>"
      ]
     },
     "metadata": {},
     "output_type": "display_data"
    }
   ],
   "source": [
    "import matplotlib.pyplot as plt\n",
    "\n",
    "%matplotlib inline\n",
    "fig = plt.figure(figsize=(20, 5))\n",
    "df_max_titre = df[df['Sentiment Titre']>0]\n",
    "x_pos = np.arange(len(df_max_titre['Sentiment Titre']))\n",
    "plt.bar( x_pos, df_max_titre['Sentiment Titre'])\n",
    "plt.ylabel(\"Fréquence\", fontsize=14)\n",
    "plt.title(\"Fréquence des sentiments sur les titres\",  fontsize=14)\n",
    "plt.xticks(x_pos, df_max_titre['Titre'], rotation=90)\n",
    "plt.show()"
   ]
  },
  {
   "cell_type": "code",
   "execution_count": 173,
   "metadata": {},
   "outputs": [
    {
     "data": {
      "image/png": "[encoded data removed]",
      "text/plain": [
       "<Figure size 1440x360 with 1 Axes>"
      ]
     },
     "metadata": {},
     "output_type": "display_data"
    }
   ],
   "source": [
    "%matplotlib inline\n",
    "fig = plt.figure(figsize=(20, 5))\n",
    "df_max_artiste = df[df['Sentiment Artiste']>0]\n",
    "x_pos = np.arange(len(df_max_artiste['Sentiment Artiste']))\n",
    "plt.bar( x_pos, df_max_artiste['Sentiment Artiste'])\n",
    "plt.ylabel(\"Fréquence\", fontsize=14)\n",
    "plt.title(\"Fréquence des sentiments sur les artistes\",  fontsize=14)\n",
    "plt.xticks(x_pos, df_max_artiste['Artiste'], rotation=90)\n",
    "plt.show()"
   ]
  }
 ],
 "metadata": {
  "kernelspec": {
   "display_name": "Python 3",
   "language": "python",
   "name": "python3"
  }
 },
 "nbformat": 4,
 "nbformat_minor": 2
}
