{
 "cells": [
  {
   "cell_type": "code",
   "execution_count": 1,
   "metadata": {},
   "outputs": [],
   "source": [
    "import re"
   ]
  },
  {
   "cell_type": "code",
   "execution_count": 16,
   "metadata": {},
   "outputs": [
    {
     "data": {
      "text/plain": [
       "' Thanks for paying with 1098-1203-1233-XXXX    and 2344-1203-3333-XXXX    '"
      ]
     },
     "execution_count": 16,
     "metadata": {},
     "output_type": "execute_result"
    }
   ],
   "source": [
    "credits_cards = ' Thanks for paying with 1098-1203-1233-2354    and 2344-1203-3333-2354    '\n",
    "pattern_telephone = re.compile(\"(\\d{4})-(\\d{4})-(\\d{4})-(\\d{4})\")\n",
    "obfuscation = pattern_telephone.sub('\\g<1>-\\g<2>-\\g<3>-XXXX',credits_cards)\n",
    "obfuscation"
   ]
  },
  {
   "cell_type": "code",
   "execution_count": 3,
   "metadata": {},
   "outputs": [],
   "source": [
    "email = '''\n",
    "Voici le fichier complété et le calendrier et la liste des adresses des élèves (elles ne seront opérationnelles que la semaine prochaine).\n",
    " pierre.arbelet@telECOM-Paristech.fr francois.bLAS@TElecom-parisTECH.fr geoffray.bories@telecom-paristech.fr claire.chazelas@TELECOM-PAristech.fr dutertre@telecom-paristech.fr nde.fOKOU@telecom-paristech.fr wei.he@telecom-paristech.fr anthony.hayot@telecom-paristech.fr frederic.hohner@telecom-paristech.fr yoann.janvier@telecom-paristech.fr mimoune.louarradi@telecom-paristech.fr david.luz@telecom-paristech.fr nicolas.marsallon@telecom-paristech.fr paul.mochkovitch@telecom-paristech.fr martin.prillard@telecom-paristech.fr christian.penon@telecom-paristech.fr gperrin@telecom-paristech.fr anthony.reinette@telecom-paristech.fr florian.riche@telecom-paristech.fr romain.savidan@telecom-paristech.fr yse.wanono@telecom-paristech.fr ismail.arkhouch@telecom-paristech.fr philippe.cayeux@telecom-paristech.fr hicham.hallak@telecom-paristech.fr arthur.dupont@telecom-paristech.fr dabale.kassim@telecom-paristech.fr xavier.lioneton@telecom-paristech.fr sarra.mouas@telecom-paristech.fr jonathan.ohayon@telecom-paristech.fr alix.saas-monier@telecom-paristech.fr thabet.chelligue@telecom-paristech.fr amoussou@telecom-paristech.fr pierre.arbelet@telecom-paristech.fr\n",
    "'''"
   ]
  },
  {
   "cell_type": "code",
   "execution_count": 8,
   "metadata": {},
   "outputs": [],
   "source": [
    "pattern_mail = r\"([a-zA-Z0-9_.+-]+@[a-zA-Z0-9-]+\\.[a-zA-Z0-9-.]+)\"\n",
    "regex_email = re.compile(pattern_mail)\n",
    "extracts = regex_email.findall(email)"
   ]
  },
  {
   "cell_type": "code",
   "execution_count": 26,
   "metadata": {},
   "outputs": [],
   "source": [
    "# Liste de patterns courants\n",
    "\n",
    "#Adresse mail (exemple john@doe.com)\n",
    "pattern_Mail = r\"^([a-z0-9_\\.-]+)@([\\da-z\\.-]+)\\.([a-z\\.]{2,6})$\"\n",
    "\n",
    "# URL (exemple http://net.tutsplus.com/about)\n",
    "pattern_URL = r\"^(https?:\\/\\/)?([\\da-z\\.-]+)\\.([a-z\\.]{2,6})([\\/\\w \\.-]*)*\\/?$\"\n",
    "\n",
    "# IP Adress (exemple 73.60.124.136)\n",
    "pattern_IP = r\"^(?:(?:25[0-5]|2[0-4][0-9]|[01]?[0-9][0-9]?)\\.){3}(?:25[0-5]|2[0-4][0-9]|[01]?[0-9][0-9]?)$\"\n",
    "\n",
    "# HTML TAG (exemple 73.60.124.136)\n",
    "pattern_HTML = r\"^<([a-z]+)([^<]+)*(?:>(.*)<\\/\\1>|\\s+\\/>)$\"\n",
    "\n",
    "#Username (exemple my-us3r_n4m3)\n",
    "pattern_username = r\"^[a-z0-9_-]{3,16}$\"\n",
    "\n",
    "#Password (exemple myp4ssw0rd)\n",
    "pattern_password = r\"^[a-z0-9_-]{6,18}$\"\n",
    "\n",
    "#Hex Value (exemple a3c113)\n",
    "pattern_Hex = r\"^#?([a-f0-9]{6}|[a-f0-9]{3})$\"\n",
    "\n",
    "#Slug (exemple my-title-here)\n",
    "pattern_Slug = r\"^[a-z0-9-]+$\"\n"
   ]
  },
  {
   "cell_type": "code",
   "execution_count": 12,
   "metadata": {},
   "outputs": [
    {
     "name": "stdout",
     "output_type": "stream",
     "text": [
      "searchObj.group() :  Cats are smarter than dogs\n",
      "searchObj.group(1) :  Cats\n",
      "searchObj.group(2) :  smarter\n"
     ]
    }
   ],
   "source": [
    "# Exemple avec search\n",
    "line = \"Cats are smarter than dogs\";\n",
    "\n",
    "searchObj = re.search( r'(.*) are (.*?) .*', line, re.M|re.I)\n",
    "\n",
    "if searchObj:\n",
    "    print (\"searchObj.group() : \", searchObj.group())\n",
    "    print (\"searchObj.group(1) : \", searchObj.group(1))\n",
    "    print (\"searchObj.group(2) : \", searchObj.group(2))\n",
    "else:\n",
    "    print (\"Nothing found!!\")"
   ]
  },
  {
   "cell_type": "code",
   "execution_count": 21,
   "metadata": {},
   "outputs": [
    {
     "data": {
      "text/plain": [
       "'02-anesthesie-reanimation-chirurgicale'"
      ]
     },
     "execution_count": 21,
     "metadata": {},
     "output_type": "execute_result"
    }
   ],
   "source": [
    "from slugify import slugify\n",
    "slugify('02-   AnEsthésie-réAnimation chirurgicale')"
   ]
  }
 ],
 "metadata": {
  "kernelspec": {
   "display_name": "Python 3",
   "language": "python",
   "name": "python3"
  },
  "language_info": {
   "codemirror_mode": {
    "name": "ipython",
    "version": 3
   },
   "file_extension": ".py",
   "mimetype": "text/x-python",
   "name": "python",
   "nbconvert_exporter": "python",
   "pygments_lexer": "ipython3",
   "version": "3.7.0"
  }
 },
 "nbformat": 4,
 "nbformat_minor": 2
}
